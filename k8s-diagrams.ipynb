{
 "cells": [
  {
   "cell_type": "markdown",
   "metadata": {
    "slideshow": {
     "slide_type": "slide"
    }
   },
   "source": [
    "# Creating diagrams from the Kubernetes API\n",
    "\n",
    "## Using Python, Diagrams and JupyterLab\n",
    "\n",
    "**Frederico Muñoz**\n"
   ]
  },
  {
   "cell_type": "raw",
   "metadata": {},
   "source": [
    "<center>\n",
    "<div class=\"imageblock\"><img src=\"https://avatars0.githubusercontent.com/u/285727?s=460&v=4\" alt=\"285727?s=460&amp;v=4\" width=\"150\"></div>\n",
    "<a href=\"mailto:fsm@sdf.org\"><span class=\"icon\"><i class=\"fa fa-envelope-o\"></i></span></a> &nbsp;\n",
    "<a href=\"https://www.linkedin.com/in/fsmunoz/\"><span class=\"icon\"><i class=\"fa fa-linkedin\"></i></span></a> &nbsp;\n",
    "<a href=\"https://github.com/fsmunoz\"><span class=\"icon\"><i class=\"fa fa-github\"></i></span></a>\n",
    "</center>"
   ]
  },
  {
   "cell_type": "markdown",
   "metadata": {
    "slideshow": {
     "slide_type": "slide"
    }
   },
   "source": [
    "## Why?\n",
    "\n",
    "Using text-based formats for documentation makes a lot of things easier, namely the way it aligns with the rest of the toolset used.\n",
    "\n",
    "* Ability to use all the functionalities of SCM systems: merges, forks, pull requests, history, reversion, etc.\n",
    "* Easy to automate the production and final output, from PDF documents to HTML pages, all from the same source.\n",
    "* Integration of scripts and code\n",
    "\n",
    "For the last point Jupyter notebooks are a common choice (especially for Python); here I demonstrate the use of the official Kubernetes library to produce this prensentation and some very simple diagrams of a Kubernetes cluster with a simple application deployed (using [minikube](https://minikube.sigs.k8s.io/docs/start/))\n",
    "\n",
    "Above all using this approach allows the creation of up-to-date documentation since the sections that are supposed to reflect what exists are automatically updated: this in turn reduces issues from out-of-date documentation that is always playing catch-up with changes."
   ]
  },
  {
   "cell_type": "markdown",
   "metadata": {
    "slideshow": {
     "slide_type": "slide"
    }
   },
   "source": [
    "## Setting things up\n",
    "\n",
    "This is straight form the [official Kubernetes client for Python](https://github.com/kubernetes-client/python) documentation; to work `kubectl` should be working correctly in the desired context, e.g. `kubectl config view`should work. "
   ]
  },
  {
   "cell_type": "code",
   "execution_count": 344,
   "metadata": {
    "slideshow": {
     "slide_type": "fragment"
    }
   },
   "outputs": [
    {
     "data": {
      "text/plain": [
       "<kubernetes.client.api.core_v1_api.CoreV1Api at 0x7f9ae7fec470>"
      ]
     },
     "metadata": {},
     "output_type": "display_data"
    }
   ],
   "source": [
    "from kubernetes import client, config\n",
    "config.load_kube_config()\n",
    "v1 = client.CoreV1Api()\n",
    "display(v1)"
   ]
  },
  {
   "cell_type": "markdown",
   "metadata": {
    "slideshow": {
     "slide_type": "slide"
    }
   },
   "source": [
    "## Nodes\n",
    "\n",
    "Let's start by creating a dataframe with some basic information on the nodes."
   ]
  },
  {
   "cell_type": "code",
   "execution_count": 345,
   "metadata": {
    "slideshow": {
     "slide_type": "fragment"
    }
   },
   "outputs": [
    {
     "data": {
      "text/html": [
       "<div>\n",
       "<style scoped>\n",
       "    .dataframe tbody tr th:only-of-type {\n",
       "        vertical-align: middle;\n",
       "    }\n",
       "\n",
       "    .dataframe tbody tr th {\n",
       "        vertical-align: top;\n",
       "    }\n",
       "\n",
       "    .dataframe thead th {\n",
       "        text-align: right;\n",
       "    }\n",
       "</style>\n",
       "<table border=\"1\" class=\"dataframe\">\n",
       "  <thead>\n",
       "    <tr style=\"text-align: right;\">\n",
       "      <th></th>\n",
       "      <th>Name</th>\n",
       "      <th>OS</th>\n",
       "      <th>OS image</th>\n",
       "      <th>Runtime</th>\n",
       "    </tr>\n",
       "  </thead>\n",
       "  <tbody>\n",
       "    <tr>\n",
       "      <th>0</th>\n",
       "      <td>multinode</td>\n",
       "      <td>linux</td>\n",
       "      <td>Buildroot 2020.02.10</td>\n",
       "      <td>docker://20.10.4</td>\n",
       "    </tr>\n",
       "    <tr>\n",
       "      <th>1</th>\n",
       "      <td>multinode-m02</td>\n",
       "      <td>linux</td>\n",
       "      <td>Buildroot 2020.02.10</td>\n",
       "      <td>docker://20.10.4</td>\n",
       "    </tr>\n",
       "  </tbody>\n",
       "</table>\n",
       "</div>"
      ],
      "text/plain": [
       "            Name     OS              OS image           Runtime\n",
       "0      multinode  linux  Buildroot 2020.02.10  docker://20.10.4\n",
       "1  multinode-m02  linux  Buildroot 2020.02.10  docker://20.10.4"
      ]
     },
     "metadata": {},
     "output_type": "display_data"
    }
   ],
   "source": [
    "import collections\n",
    "import pandas as pd\n",
    "\n",
    "nodes = v1.list_node(watch=False)\n",
    "node_list = []\n",
    "for i in nodes.items:\n",
    "    node_dict = collections.OrderedDict()\n",
    "    node_dict[\"Name\"]= i.metadata.name\n",
    "    node_dict[\"OS\"]= i.status.node_info.operating_system\n",
    "    node_dict[\"OS image\"]= i.status.node_info.os_image\n",
    "    node_dict[\"Runtime\"]= i.status.node_info.container_runtime_version\n",
    "    node_list.append(node_dict)\n",
    "\n",
    "nodes_df = pd.DataFrame(node_list)\n",
    "display(nodes_df)"
   ]
  },
  {
   "cell_type": "markdown",
   "metadata": {
    "slideshow": {
     "slide_type": "slide"
    }
   },
   "source": [
    "We set up some global attributes to be used later; these specify Graphviz attributes that determine how the graphs looks."
   ]
  },
  {
   "cell_type": "code",
   "execution_count": 346,
   "metadata": {},
   "outputs": [],
   "source": [
    "graph_attr = {\n",
    "    \"layout\": \"fdp\",\n",
    "}\n",
    "cluster_attr = {\n",
    "    \"fontsize\": \"12\",\n",
    "    \"style\": \"filled\",\n",
    "    \"fillcolor\": \"grey97\"\n",
    "}\n",
    "node_attr = {\n",
    "    \"fontsize\": \"8\"   \n",
    "}"
   ]
  },
  {
   "cell_type": "markdown",
   "metadata": {
    "slideshow": {
     "slide_type": "slide"
    }
   },
   "source": [
    "We also do all the imports right away to make the code shorter in later blocks."
   ]
  },
  {
   "cell_type": "code",
   "execution_count": 347,
   "metadata": {
    "slideshow": {
     "slide_type": "fragment"
    }
   },
   "outputs": [],
   "source": [
    "from diagrams import Cluster, Diagram\n",
    "from diagrams.k8s.clusterconfig import HPA\n",
    "from diagrams.k8s.compute import Deployment, Pod, ReplicaSet\n",
    "from diagrams.k8s.infra import Node, Master\n",
    "from diagrams.k8s.network import Ingress, Service\n",
    "from diagrams.k8s.group import Namespace\n",
    "from diagrams.k8s.podconfig import Secret"
   ]
  },
  {
   "cell_type": "markdown",
   "metadata": {
    "slideshow": {
     "slide_type": "slide"
    }
   },
   "source": [
    "## About Diagrams\n",
    "\n",
    "[Diagrams](https://diagrams.mingrammer.com/) is the library we will use to produce the diagrams; from the home page:\n",
    "> Diagrams lets you draw the cloud system architecture in Python code.\n",
    "> It was born for prototyping a new system architecture without any design tools. You can also describe or visualize the existing system architecture as well.\n",
    "> Diagram as Code allows you to track the architecture diagram changes in any version control system.\n",
    "\n",
    "\n",
    "It uses [Graphviz](https://graphviz.org/) to build the graphs so that needs to be installed as well."
   ]
  },
  {
   "cell_type": "markdown",
   "metadata": {
    "slideshow": {
     "slide_type": "slide"
    }
   },
   "source": [
    "## Show the nodes\n",
    "\n",
    "Using the dataframe and Diagrams we can build this simple cluster diagram by iteractig through the nodes:"
   ]
  },
  {
   "cell_type": "code",
   "execution_count": 357,
   "metadata": {
    "slideshow": {
     "slide_type": "fragment"
    }
   },
   "outputs": [
    {
     "data": {
      "image/png": "[encoded data removed]",
      "text/plain": [
       "<diagrams.Diagram at 0x7f9af954a908>"
      ]
     },
     "execution_count": 357,
     "metadata": {},
     "output_type": "execute_result"
    }
   ],
   "source": [
    "with Diagram(show=False, direction=\"LR\",graph_attr=graph_attr, node_attr=node_attr) as diag:\n",
    "    with Cluster(\"k8s cluster\", graph_attr=cluster_attr):\n",
    "        for idx,node in  nodes_df.iterrows():\n",
    "            Node(node[\"Name\"]) #>> Service(\"svc\")\n",
    "diag"
   ]
  },
  {
   "cell_type": "markdown",
   "metadata": {
    "slideshow": {
     "slide_type": "slide"
    }
   },
   "source": [
    "## Namespaces\n",
    "\n",
    "The cluster has the following namespaces (or \"projects\") - again, we process the dict to build a dataframe."
   ]
  },
  {
   "cell_type": "code",
   "execution_count": 358,
   "metadata": {
    "slideshow": {
     "slide_type": "fragment"
    }
   },
   "outputs": [
    {
     "data": {
      "text/html": [
       "<div>\n",
       "<style scoped>\n",
       "    .dataframe tbody tr th:only-of-type {\n",
       "        vertical-align: middle;\n",
       "    }\n",
       "\n",
       "    .dataframe tbody tr th {\n",
       "        vertical-align: top;\n",
       "    }\n",
       "\n",
       "    .dataframe thead th {\n",
       "        text-align: right;\n",
       "    }\n",
       "</style>\n",
       "<table border=\"1\" class=\"dataframe\">\n",
       "  <thead>\n",
       "    <tr style=\"text-align: right;\">\n",
       "      <th></th>\n",
       "      <th>Name</th>\n",
       "      <th>UID</th>\n",
       "    </tr>\n",
       "  </thead>\n",
       "  <tbody>\n",
       "    <tr>\n",
       "      <th>0</th>\n",
       "      <td>default</td>\n",
       "      <td>0086019d-bc33-4b04-a4e3-4f63f3472621</td>\n",
       "    </tr>\n",
       "    <tr>\n",
       "      <th>1</th>\n",
       "      <td>kube-node-lease</td>\n",
       "      <td>6d7de7e1-02ab-4d70-9e4a-0b9237890f73</td>\n",
       "    </tr>\n",
       "    <tr>\n",
       "      <th>2</th>\n",
       "      <td>kube-public</td>\n",
       "      <td>4dd3461e-726c-4595-a3dc-d2bbc0748851</td>\n",
       "    </tr>\n",
       "    <tr>\n",
       "      <th>3</th>\n",
       "      <td>kube-system</td>\n",
       "      <td>db61c947-b684-4efc-8c45-9a9ed915852d</td>\n",
       "    </tr>\n",
       "  </tbody>\n",
       "</table>\n",
       "</div>"
      ],
      "text/plain": [
       "              Name                                   UID\n",
       "0          default  0086019d-bc33-4b04-a4e3-4f63f3472621\n",
       "1  kube-node-lease  6d7de7e1-02ab-4d70-9e4a-0b9237890f73\n",
       "2      kube-public  4dd3461e-726c-4595-a3dc-d2bbc0748851\n",
       "3      kube-system  db61c947-b684-4efc-8c45-9a9ed915852d"
      ]
     },
     "metadata": {},
     "output_type": "display_data"
    }
   ],
   "source": [
    "ns = v1.list_namespace(watch=False)\n",
    "ns_list = []\n",
    "for i in ns.items:\n",
    "    ns_dict = collections.OrderedDict()\n",
    "    ns_dict[\"Name\"]= i.metadata.name\n",
    "    ns_dict[\"UID\"]= i.metadata.uid\n",
    "    ns_list.append(ns_dict)\n",
    "ns_df = pd.DataFrame(ns_list)\n",
    "display(ns_df)"
   ]
  },
  {
   "cell_type": "markdown",
   "metadata": {
    "slideshow": {
     "slide_type": "slide"
    }
   },
   "source": [
    "We can show the namespaces using a similar approach."
   ]
  },
  {
   "cell_type": "code",
   "execution_count": 359,
   "metadata": {
    "slideshow": {
     "slide_type": "fragment"
    }
   },
   "outputs": [
    {
     "data": {
      "image/png": "[encoded data removed]",
      "text/plain": [
       "<diagrams.Diagram at 0x7f9af954a390>"
      ]
     },
     "execution_count": 359,
     "metadata": {},
     "output_type": "execute_result"
    }
   ],
   "source": [
    "with Diagram(show=False,graph_attr=graph_attr,node_attr=node_attr) as diag:\n",
    "    with Cluster(\"k8s cluster\", graph_attr=cluster_attr):\n",
    "        for idx,namespace in ns_df.iterrows():\n",
    "            Namespace(namespace[\"Name\"])\n",
    "diag"
   ]
  },
  {
   "cell_type": "markdown",
   "metadata": {
    "slideshow": {
     "slide_type": "slide"
    }
   },
   "source": [
    "## Pods"
   ]
  },
  {
   "cell_type": "markdown",
   "metadata": {
    "slideshow": {
     "slide_type": "fragment"
    }
   },
   "source": [
    "The approach is the same; not that we are building Pandas dataframes because this is useful for other purposes (namely for the production of a PDF via LaTeX), but directly using the `dict` is possible and would actually be simpler. I'm using a simplistic approach for the label/selector pairing, so I simply add an \"App\" column that contains the label."
   ]
  },
  {
   "cell_type": "code",
   "execution_count": 360,
   "metadata": {
    "slideshow": {
     "slide_type": "slide"
    }
   },
   "outputs": [
    {
     "data": {
      "text/html": [
       "<div>\n",
       "<style scoped>\n",
       "    .dataframe tbody tr th:only-of-type {\n",
       "        vertical-align: middle;\n",
       "    }\n",
       "\n",
       "    .dataframe tbody tr th {\n",
       "        vertical-align: top;\n",
       "    }\n",
       "\n",
       "    .dataframe thead th {\n",
       "        text-align: right;\n",
       "    }\n",
       "</style>\n",
       "<table border=\"1\" class=\"dataframe\">\n",
       "  <thead>\n",
       "    <tr style=\"text-align: right;\">\n",
       "      <th></th>\n",
       "      <th>Name</th>\n",
       "      <th>Namespace</th>\n",
       "      <th>IP</th>\n",
       "      <th>Node</th>\n",
       "      <th>Start</th>\n",
       "      <th>App</th>\n",
       "      <th>Secret</th>\n",
       "    </tr>\n",
       "  </thead>\n",
       "  <tbody>\n",
       "    <tr>\n",
       "      <th>0</th>\n",
       "      <td>web-79d88c97d6-qjwrb</td>\n",
       "      <td>default</td>\n",
       "      <td>10.244.1.2</td>\n",
       "      <td>192.168.99.102</td>\n",
       "      <td>2021-04-15 11:08:42+00:00</td>\n",
       "      <td>web</td>\n",
       "      <td>default-token-xcg4s</td>\n",
       "    </tr>\n",
       "    <tr>\n",
       "      <th>1</th>\n",
       "      <td>coredns-74ff55c5b-22d2c</td>\n",
       "      <td>kube-system</td>\n",
       "      <td>10.244.0.2</td>\n",
       "      <td>192.168.99.101</td>\n",
       "      <td>2021-04-15 10:56:28+00:00</td>\n",
       "      <td></td>\n",
       "      <td>coredns-token-mh9wz</td>\n",
       "    </tr>\n",
       "    <tr>\n",
       "      <th>2</th>\n",
       "      <td>etcd-multinode</td>\n",
       "      <td>kube-system</td>\n",
       "      <td>192.168.99.101</td>\n",
       "      <td>192.168.99.101</td>\n",
       "      <td>2021-04-15 10:55:54+00:00</td>\n",
       "      <td></td>\n",
       "      <td></td>\n",
       "    </tr>\n",
       "    <tr>\n",
       "      <th>3</th>\n",
       "      <td>kindnet-h6jqn</td>\n",
       "      <td>kube-system</td>\n",
       "      <td>192.168.99.102</td>\n",
       "      <td>192.168.99.102</td>\n",
       "      <td>2021-04-15 10:56:47+00:00</td>\n",
       "      <td>kindnet</td>\n",
       "      <td>kindnet-token-9f9xk</td>\n",
       "    </tr>\n",
       "    <tr>\n",
       "      <th>4</th>\n",
       "      <td>kindnet-n4h8k</td>\n",
       "      <td>kube-system</td>\n",
       "      <td>192.168.99.101</td>\n",
       "      <td>192.168.99.101</td>\n",
       "      <td>2021-04-15 10:56:09+00:00</td>\n",
       "      <td>kindnet</td>\n",
       "      <td>kindnet-token-9f9xk</td>\n",
       "    </tr>\n",
       "    <tr>\n",
       "      <th>5</th>\n",
       "      <td>kube-apiserver-multinode</td>\n",
       "      <td>kube-system</td>\n",
       "      <td>192.168.99.101</td>\n",
       "      <td>192.168.99.101</td>\n",
       "      <td>2021-04-15 10:55:54+00:00</td>\n",
       "      <td></td>\n",
       "      <td></td>\n",
       "    </tr>\n",
       "    <tr>\n",
       "      <th>6</th>\n",
       "      <td>kube-controller-manager-multinode</td>\n",
       "      <td>kube-system</td>\n",
       "      <td>192.168.99.101</td>\n",
       "      <td>192.168.99.101</td>\n",
       "      <td>2021-04-15 10:55:54+00:00</td>\n",
       "      <td></td>\n",
       "      <td></td>\n",
       "    </tr>\n",
       "    <tr>\n",
       "      <th>7</th>\n",
       "      <td>kube-proxy-n8jz5</td>\n",
       "      <td>kube-system</td>\n",
       "      <td>192.168.99.101</td>\n",
       "      <td>192.168.99.101</td>\n",
       "      <td>2021-04-15 10:56:09+00:00</td>\n",
       "      <td></td>\n",
       "      <td>kube-proxy-token-brdgp</td>\n",
       "    </tr>\n",
       "    <tr>\n",
       "      <th>8</th>\n",
       "      <td>kube-proxy-zlnwn</td>\n",
       "      <td>kube-system</td>\n",
       "      <td>192.168.99.102</td>\n",
       "      <td>192.168.99.102</td>\n",
       "      <td>2021-04-15 10:56:47+00:00</td>\n",
       "      <td></td>\n",
       "      <td>kube-proxy-token-brdgp</td>\n",
       "    </tr>\n",
       "    <tr>\n",
       "      <th>9</th>\n",
       "      <td>kube-scheduler-multinode</td>\n",
       "      <td>kube-system</td>\n",
       "      <td>192.168.99.101</td>\n",
       "      <td>192.168.99.101</td>\n",
       "      <td>2021-04-15 10:55:54+00:00</td>\n",
       "      <td></td>\n",
       "      <td></td>\n",
       "    </tr>\n",
       "    <tr>\n",
       "      <th>10</th>\n",
       "      <td>storage-provisioner</td>\n",
       "      <td>kube-system</td>\n",
       "      <td>192.168.99.101</td>\n",
       "      <td>192.168.99.101</td>\n",
       "      <td>2021-04-15 10:56:28+00:00</td>\n",
       "      <td></td>\n",
       "      <td>storage-provisioner-token-kg6jz</td>\n",
       "    </tr>\n",
       "  </tbody>\n",
       "</table>\n",
       "</div>"
      ],
      "text/plain": [
       "                                 Name    Namespace              IP  \\\n",
       "0                web-79d88c97d6-qjwrb      default      10.244.1.2   \n",
       "1             coredns-74ff55c5b-22d2c  kube-system      10.244.0.2   \n",
       "2                      etcd-multinode  kube-system  192.168.99.101   \n",
       "3                       kindnet-h6jqn  kube-system  192.168.99.102   \n",
       "4                       kindnet-n4h8k  kube-system  192.168.99.101   \n",
       "5            kube-apiserver-multinode  kube-system  192.168.99.101   \n",
       "6   kube-controller-manager-multinode  kube-system  192.168.99.101   \n",
       "7                    kube-proxy-n8jz5  kube-system  192.168.99.101   \n",
       "8                    kube-proxy-zlnwn  kube-system  192.168.99.102   \n",
       "9            kube-scheduler-multinode  kube-system  192.168.99.101   \n",
       "10                storage-provisioner  kube-system  192.168.99.101   \n",
       "\n",
       "              Node                     Start      App  \\\n",
       "0   192.168.99.102 2021-04-15 11:08:42+00:00      web   \n",
       "1   192.168.99.101 2021-04-15 10:56:28+00:00            \n",
       "2   192.168.99.101 2021-04-15 10:55:54+00:00            \n",
       "3   192.168.99.102 2021-04-15 10:56:47+00:00  kindnet   \n",
       "4   192.168.99.101 2021-04-15 10:56:09+00:00  kindnet   \n",
       "5   192.168.99.101 2021-04-15 10:55:54+00:00            \n",
       "6   192.168.99.101 2021-04-15 10:55:54+00:00            \n",
       "7   192.168.99.101 2021-04-15 10:56:09+00:00            \n",
       "8   192.168.99.102 2021-04-15 10:56:47+00:00            \n",
       "9   192.168.99.101 2021-04-15 10:55:54+00:00            \n",
       "10  192.168.99.101 2021-04-15 10:56:28+00:00            \n",
       "\n",
       "                             Secret  \n",
       "0               default-token-xcg4s  \n",
       "1               coredns-token-mh9wz  \n",
       "2                                    \n",
       "3               kindnet-token-9f9xk  \n",
       "4               kindnet-token-9f9xk  \n",
       "5                                    \n",
       "6                                    \n",
       "7            kube-proxy-token-brdgp  \n",
       "8            kube-proxy-token-brdgp  \n",
       "9                                    \n",
       "10  storage-provisioner-token-kg6jz  "
      ]
     },
     "metadata": {},
     "output_type": "display_data"
    }
   ],
   "source": [
    "ret = v1.list_pod_for_all_namespaces(watch=False)\n",
    "pods_list = []\n",
    "for i in ret.items:\n",
    "    pods_dict = collections.OrderedDict()\n",
    "    pods_dict[\"Name\"]= i.metadata.name\n",
    "    pods_dict[\"Namespace\"]= i.metadata.namespace\n",
    "    pods_dict[\"IP\"] = i.status.pod_ip\n",
    "    pods_dict[\"Node\"] = i.status.host_ip\n",
    "    pods_dict[\"Start\"]= i.status.start_time\n",
    "    if \"app\" in i.metadata.labels:\n",
    "        pods_dict[\"App\"] = i.metadata.labels[\"app\"]\n",
    "    else:\n",
    "        pods_dict[\"App\"] = \"\"\n",
    "    for v in i.spec.volumes:\n",
    "        if v.secret is not None:\n",
    "            pods_dict[\"Secret\"] = v.secret.secret_name\n",
    "        else:\n",
    "            pods_dict[\"Secret\"] = \"\"\n",
    "    pods_list.append(pods_dict)\n",
    "pods_df = pd.DataFrame(pods_list)\n",
    "display(pods_df)"
   ]
  },
  {
   "cell_type": "markdown",
   "metadata": {
    "slideshow": {
     "slide_type": "slide"
    }
   },
   "source": [
    "We also get the **Services**, including their selector."
   ]
  },
  {
   "cell_type": "code",
   "execution_count": 361,
   "metadata": {
    "slideshow": {
     "slide_type": "fragment"
    }
   },
   "outputs": [
    {
     "data": {
      "text/html": [
       "<div>\n",
       "<style scoped>\n",
       "    .dataframe tbody tr th:only-of-type {\n",
       "        vertical-align: middle;\n",
       "    }\n",
       "\n",
       "    .dataframe tbody tr th {\n",
       "        vertical-align: top;\n",
       "    }\n",
       "\n",
       "    .dataframe thead th {\n",
       "        text-align: right;\n",
       "    }\n",
       "</style>\n",
       "<table border=\"1\" class=\"dataframe\">\n",
       "  <thead>\n",
       "    <tr style=\"text-align: right;\">\n",
       "      <th></th>\n",
       "      <th>Name</th>\n",
       "      <th>Type</th>\n",
       "      <th>IP</th>\n",
       "      <th>App</th>\n",
       "    </tr>\n",
       "  </thead>\n",
       "  <tbody>\n",
       "    <tr>\n",
       "      <th>0</th>\n",
       "      <td>kubernetes</td>\n",
       "      <td>ClusterIP</td>\n",
       "      <td>10.96.0.1</td>\n",
       "      <td>NaN</td>\n",
       "    </tr>\n",
       "    <tr>\n",
       "      <th>1</th>\n",
       "      <td>web</td>\n",
       "      <td>NodePort</td>\n",
       "      <td>10.99.132.93</td>\n",
       "      <td>web</td>\n",
       "    </tr>\n",
       "    <tr>\n",
       "      <th>2</th>\n",
       "      <td>kube-dns</td>\n",
       "      <td>ClusterIP</td>\n",
       "      <td>10.96.0.10</td>\n",
       "      <td>NaN</td>\n",
       "    </tr>\n",
       "  </tbody>\n",
       "</table>\n",
       "</div>"
      ],
      "text/plain": [
       "         Name       Type            IP  App\n",
       "0  kubernetes  ClusterIP     10.96.0.1  NaN\n",
       "1         web   NodePort  10.99.132.93  web\n",
       "2    kube-dns  ClusterIP    10.96.0.10  NaN"
      ]
     },
     "metadata": {},
     "output_type": "display_data"
    }
   ],
   "source": [
    "services = v1.list_service_for_all_namespaces(watch=False)\n",
    "srv_list = []\n",
    "for i in services.items:\n",
    "    srv_dict = collections.OrderedDict()\n",
    "    srv_dict[\"Name\"]= i.metadata.name\n",
    "    srv_dict[\"Type\"]= i.spec.type\n",
    "    srv_dict[\"IP\"]= i.spec.cluster_ip\n",
    "    if i.spec.selector is not None:\n",
    "        if \"app\" in i.spec.selector:\n",
    "            srv_dict[\"App\"] = i.spec.selector[\"app\"]\n",
    "    srv_list.append(srv_dict)\n",
    "srv_df = pd.DataFrame(srv_list)\n",
    "display(srv_df)"
   ]
  },
  {
   "cell_type": "markdown",
   "metadata": {
    "slideshow": {
     "slide_type": "slide"
    }
   },
   "source": [
    "And now we tie it all up: looking to the `default` namespace (which is where I deployed the application) the pod, service and secret - with their relatoinships - are built."
   ]
  },
  {
   "cell_type": "code",
   "execution_count": 362,
   "metadata": {
    "slideshow": {
     "slide_type": "slide"
    }
   },
   "outputs": [
    {
     "data": {
      "image/png": "[encoded data removed]",
      "text/plain": [
       "<diagrams.Diagram at 0x7f9af8d6f6a0>"
      ]
     },
     "execution_count": 362,
     "metadata": {},
     "output_type": "execute_result"
    }
   ],
   "source": [
    "with Diagram(show=False, graph_attr=graph_attr, node_attr=node_attr) as diag:\n",
    "    with Cluster(\"ns: default\", graph_attr=cluster_attr):\n",
    "        for idx,pod in pods_df[pods_df[\"Namespace\"] == \"default\"].iterrows():\n",
    "            p = Pod(pod[\"Name\"])\n",
    "            if srv_df[srv_df[\"App\"] == pod[\"App\"]][\"Name\"].any():\n",
    "                p >> Service(pod[\"App\"])\n",
    "            if pod[\"Secret\"]:\n",
    "                Secret(pod[\"Secret\"]) >> p\n",
    "diag"
   ]
  },
  {
   "cell_type": "markdown",
   "metadata": {
    "slideshow": {
     "slide_type": "slide"
    }
   },
   "source": [
    "## Final words\n",
    "\n",
    "JupyterLab can export to several different formats, including [AsciiDoc](https://asciidoc.org/), [LaTeX](https://www.latex-project.org/) and obviously [Reveal.js](https://revealjs.com/) that was used to produce this presentation - on top of the HTML export and the ablity to use it interactively.\n",
    "\n",
    "Since we're in a Jupyter notebook a lot more can be done: using any of the visualisations libraries (like [Seaborn](https://seaborn.pydata.org/)) we can automatically produce plots and statistics about our cluster: this simple example uses`matplotlib` and `Seaborn` to show how many pods are running in each node."
   ]
  },
  {
   "cell_type": "code",
   "execution_count": 363,
   "metadata": {},
   "outputs": [
    {
     "data": {
      "text/plain": [
       "<matplotlib.axes._subplots.AxesSubplot at 0x7f9af842dc50>"
      ]
     },
     "execution_count": 363,
     "metadata": {},
     "output_type": "execute_result"
    },
    {
     "data": {
      "image/png": "[encoded data removed]",
      "text/plain": [
       "<Figure size 432x288 with 1 Axes>"
      ]
     },
     "metadata": {},
     "output_type": "display_data"
    }
   ],
   "source": [
    "import seaborn as sns\n",
    "sns.set()\n",
    "sns.set_style(\"whitegrid\")\n",
    "\n",
    "pods_df[[\"Name\",\"Node\"]].groupby('Node').count().plot(kind=\"bar\",legend=False)"
   ]
  }
 ],
 "metadata": {
  "authors": [
   {
    "name": "Frederico Muñoz"
   }
  ],
  "kernelspec": {
   "display_name": "Python 3",
   "language": "python",
   "name": "python3"
  },
  "language_info": {
   "codemirror_mode": {
    "name": "ipython",
    "version": 3
   },
   "file_extension": ".py",
   "mimetype": "text/x-python",
   "name": "python",
   "nbconvert_exporter": "python",
   "pygments_lexer": "ipython3",
   "version": "3.6.8"
  }
 },
 "nbformat": 4,
 "nbformat_minor": 4
}
